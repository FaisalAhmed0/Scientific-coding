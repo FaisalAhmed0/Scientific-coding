{
  "nbformat": 4,
  "nbformat_minor": 0,
  "metadata": {
    "colab": {
      "name": "Faisal_Mohamed_Data Structure - Students Version",
      "provenance": [],
      "collapsed_sections": [],
      "include_colab_link": true
    },
    "kernelspec": {
      "display_name": "Python 3",
      "name": "python3"
    }
  },
  "cells": [
    {
      "cell_type": "markdown",
      "metadata": {
        "id": "view-in-github",
        "colab_type": "text"
      },
      "source": [
        "<a href=\"https://colab.research.google.com/github/FaisalAhmed0/Scientific-coding/blob/master/Faisal_Mohamed_Data_Structure_Students_Version.ipynb\" target=\"_parent\"><img src=\"https://colab.research.google.com/assets/colab-badge.svg\" alt=\"Open In Colab\"/></a>"
      ]
    },
    {
      "cell_type": "markdown",
      "metadata": {
        "id": "W9QI9FzZK4LA"
      },
      "source": [
        "# Data-Structures"
      ]
    },
    {
      "cell_type": "markdown",
      "metadata": {
        "id": "yHsvxf_fNr3s"
      },
      "source": [
        "# Content\n",
        "\n",
        "* Abstract data types\n",
        "* Data Structures\n",
        "* Classes and Objects - Brief Introduction\n",
        "* Builtin Data structures\n",
        "  * Lists\n",
        "  * tuples\n",
        "  * Sets\n",
        "  * Dictionaries\n",
        "* Implementing data structures\n",
        "  * Queues\n",
        "  * Stacks\n",
        "  * Linked Lists\n",
        "* Immutable vs Mutable\n",
        "* Space Time Complexity analysis\n"
      ]
    },
    {
      "cell_type": "markdown",
      "metadata": {
        "id": "8B3E0vMgRN0R"
      },
      "source": [
        "## Abstract data type(ADT)\n",
        "* A logical definition of data type as a theoretical model\n",
        "* Specification of possible types data, possible operations on the data, and the behavior of those operations\n",
        "* ADT is implementation independent i.e the same ADT will have different types of Implementations\n",
        "\n",
        "\n",
        "E.g Stack ADT, list ADT, Queue ADT, Priority Queue ADT, etc.\n",
        "\n",
        "\n",
        "## Data structures\n",
        "* Are concrete/practical implementation of ADTs\n",
        "\n",
        "E.g Python lists, python deque implementation of queue, etc.\n",
        "\n"
      ]
    },
    {
      "cell_type": "markdown",
      "metadata": {
        "id": "0zfe7hj5V3tF"
      },
      "source": [
        "## Brief Introduction to Classes and Objects\n",
        "\n",
        "### Classes\n",
        "\n",
        "* Are prototype/blueprint of objects\n",
        "* Defines attributes and methods of objects\n",
        "* State of the object is represented by the attributes\n",
        "* Behaviour of the objects is defined by the methods\n",
        "\n",
        "### Class Definition syntax"
      ]
    },
    {
      "cell_type": "code",
      "metadata": {
        "id": "WxyiaBEZV2H7"
      },
      "source": [
        "class AnimalClass1:\n",
        "  pass\n",
        "\n",
        "class AnimalClass2:\n",
        "  name = \"Cat\"\n",
        "\n",
        "class AnimalClass3:\n",
        "  def __init__(self, name):\n",
        "    self.name = name\n",
        "    \n",
        "class AnimalClass4:\n",
        "  def __init__(self, name, sound):\n",
        "    self.name = name\n",
        "    self.sound = sound\n",
        "  def make_sound(self):\n",
        "    print(self.sound)\n"
      ],
      "execution_count": null,
      "outputs": []
    },
    {
      "cell_type": "markdown",
      "metadata": {
        "id": "1o_8Cne8kUpq"
      },
      "source": [
        "\n",
        "\n",
        "### Objects"
      ]
    },
    {
      "cell_type": "markdown",
      "metadata": {
        "id": "T1qDf-3bXvCw"
      },
      "source": [
        "* Are instances of the object\n",
        "* Classes define the type of the objects and objects are realization of those classes\n",
        "* The same class can be used to creat different objects, "
      ]
    },
    {
      "cell_type": "markdown",
      "metadata": {
        "id": "sHR_2EwBYZ63"
      },
      "source": [
        "#### Syntax to create an object"
      ]
    },
    {
      "cell_type": "code",
      "metadata": {
        "colab": {
          "base_uri": "https://localhost:8080/"
        },
        "id": "cAmnh73iYZAW",
        "outputId": "171d1b00-e71d-4ffe-9c67-4434efa01189"
      },
      "source": [
        "animal = AnimalClass4(\"Cat\", \"Meow\")\n",
        "animal.make_sound()"
      ],
      "execution_count": null,
      "outputs": [
        {
          "output_type": "stream",
          "text": [
            "Meow\n"
          ],
          "name": "stdout"
        }
      ]
    },
    {
      "cell_type": "markdown",
      "metadata": {
        "id": "745PFX5mZSdQ"
      },
      "source": [
        "### Python's builtin Data structures\n",
        "### Lists\n",
        "* Python's builtin Implementation of List ADT\n",
        "* Are ordered collection of items\n",
        "* Dynamic size\n",
        "* Mutable\n",
        "* More materials on lists\n",
        "  * [Lists and Tuples in Python](https://realpython.com/python-lists-tuples/)\n",
        "* More on implemenatation of lists in python\n",
        "  * [Python list implementation](https://www.laurentluce.com/posts/python-list-implementation/)\n",
        "  * [How are lists implemented in CPython?](https://docs.python.org/3/faq/design.html#id20)\n",
        "* Are indexable(Python uses zero based indices) \n",
        "* Time complexity\n",
        "  * Accessing item by indexing\n",
        "  * Checking existance of item \n",
        "  * Adding item to the end\n",
        "  * Adding item at arbitrary place\n",
        "  \n",
        "  "
      ]
    },
    {
      "cell_type": "code",
      "metadata": {
        "colab": {
          "base_uri": "https://localhost:8080/"
        },
        "id": "VLVUTGRzbysi",
        "outputId": "811da173-e76f-492d-b1c1-7ed58be86307"
      },
      "source": [
        "list_1 = list() # Creating empty list\n",
        "list_2 = [10, 20, 30, 40] # Anthor way to create list\n",
        "print(\"The first element of list_2 is\", list_2[0]) # accessing the first element of the list\n",
        "list_1.append(10) # adding 10 to the list items. \n",
        "\n",
        "list_1.append(20) # adding 10 to the list items. \n",
        "list_1.append(10) # adding 10 to the list items. \n",
        "print(\"list_1 after append 10, 20 and 10\", list_1)\n",
        "list_2.remove(20)\n",
        "print(\"list_2 after removing 20\", list_2)\n",
        "\n",
        "list_1.extend(list_2) # Adding all elements from the list_2 to list_1\n",
        "print(\"list_1 after extending list_2\")\n",
        "\n",
        "list_3 = [\"cat\", \"dog\"]\n",
        "list_4 = list_1 + list_3 # List concatenation\n",
        "print(\"list_4\", list_4)"
      ],
      "execution_count": null,
      "outputs": [
        {
          "output_type": "stream",
          "text": [
            "The first element of list_2 is 10\n",
            "list_1 after append 10, 20 and 10 [10, 20, 10]\n",
            "list_2 after removing 20 [10, 30, 40]\n",
            "list_1 after extending list_2\n",
            "list_4 [10, 20, 10, 10, 30, 40, 'cat', 'dog']\n"
          ],
          "name": "stdout"
        }
      ]
    },
    {
      "cell_type": "code",
      "metadata": {
        "id": "aY1ODG-jeCpL"
      },
      "source": [
        ""
      ],
      "execution_count": null,
      "outputs": []
    },
    {
      "cell_type": "markdown",
      "metadata": {
        "id": "xjW4yo3JeDTo"
      },
      "source": [
        "\n",
        "<font  color=\"olive\"> <b> Question 1</b><br/>\n",
        " Dot product of vectors\n",
        "Vectors are mathematical objects that are often used to represent the inputs to neural networks. One way to view the vectors is as list of items. Complete the following code to compute dot product of two vectors. Dot product is defined the following equation:-\n",
        "</font>\n",
        "\n",
        "$$\n",
        "x.y = <x, y> = x^Ty = \\sum_{i}^n x_iy_i\n",
        "$$\n",
        "\n",
        "<font  color=\"olive\"> \n",
        "Assume that only lists are passed to the function and they also contain only numeric datatype.\n",
        "\n",
        "</font>"
      ]
    },
    {
      "cell_type": "code",
      "metadata": {
        "id": "j-4NM9l6ery2"
      },
      "source": [
        "def dot_prod(vec_1, vec_2):\n",
        "  \"\"\"\n",
        "  Computer dot product of two vectors. The vectors are list of numbers\n",
        "  and have same length, i.e len(vec_1) == len(vec_2). \n",
        "  Parameters\n",
        "  ----------\n",
        "  vec_1 : list\n",
        "    The first vector\n",
        "  vec_2: list\n",
        "    The second vector\n",
        "  Returns\n",
        "  -------\n",
        "  float\n",
        "    The dot product of the vec_1 and vec_2\n",
        "\n",
        "  Examples\n",
        "  --------\n",
        "  >>> dot_prod([1, 2], [3, 4])\n",
        "  11\n",
        "  >>> dot_prod([1, 3, 4], [0, 1, 0])\n",
        "  3\n",
        "  \"\"\"\n",
        "\n",
        "\n",
        "  output = 0\n",
        "  ##### WRITE YOUR CODE HERE #####\n",
        "  for x, y in zip(vec_1, vec_2):\n",
        "    output += (x*y)\n",
        "  #### END CODE ####\n",
        "\n",
        "  \n",
        "  return output;\n",
        "\n"
      ],
      "execution_count": null,
      "outputs": []
    },
    {
      "cell_type": "code",
      "metadata": {
        "colab": {
          "base_uri": "https://localhost:8080/"
        },
        "id": "p_K1L1g7gIp9",
        "outputId": "69ac27d4-29c0-4e95-81eb-074fb55a5007"
      },
      "source": [
        "dot_prod([1, 2], [3, 5])"
      ],
      "execution_count": null,
      "outputs": [
        {
          "output_type": "execute_result",
          "data": {
            "text/plain": [
              "13"
            ]
          },
          "metadata": {
            "tags": []
          },
          "execution_count": 6
        }
      ]
    },
    {
      "cell_type": "code",
      "metadata": {
        "colab": {
          "base_uri": "https://localhost:8080/"
        },
        "id": "QVCXTd4UZNBF",
        "outputId": "1532022c-fede-41bd-a75e-774f343dce83"
      },
      "source": [
        "dot_prod([1, 2], [3, 4])"
      ],
      "execution_count": null,
      "outputs": [
        {
          "output_type": "execute_result",
          "data": {
            "text/plain": [
              "11"
            ]
          },
          "metadata": {
            "tags": []
          },
          "execution_count": 7
        }
      ]
    },
    {
      "cell_type": "code",
      "metadata": {
        "colab": {
          "base_uri": "https://localhost:8080/"
        },
        "id": "lT3n-5vjZNJg",
        "outputId": "029ee45d-c4b0-4a61-b156-5c65995b3f5e"
      },
      "source": [
        "dot_prod([1, 3, 4], [0, 1, 0])"
      ],
      "execution_count": null,
      "outputs": [
        {
          "output_type": "execute_result",
          "data": {
            "text/plain": [
              "3"
            ]
          },
          "metadata": {
            "tags": []
          },
          "execution_count": 8
        }
      ]
    },
    {
      "cell_type": "markdown",
      "metadata": {
        "id": "Yudfup1xgxza"
      },
      "source": [
        "\n",
        "\n",
        "<font  color=\"olive\"> <b> Question 2</b><br/>\n",
        "Write a function to compute the squared norm of a vector. You can make the same assumption about vectors as in question 1.\n",
        "Squared norm of a vector $\\mathbf{x}$ is give by the following equation\n",
        "</font>\n",
        "$$\n",
        "  \\left|\\mathbf{x}\\right|^2 = \\sum_i^n x_i^2\n",
        "$$\n",
        "<font  color=\"olive\">\n",
        "You are allowed to use the `dot_prod` function you defined above.\n",
        "</font>\n"
      ]
    },
    {
      "cell_type": "code",
      "metadata": {
        "id": "l6jdROoCm18e"
      },
      "source": [
        "def squared_norm(vec):\n",
        "  \"\"\"\n",
        "  Compute the squared norm of vector. \n",
        "  Parameters\n",
        "  ----------\n",
        "  vec : list\n",
        "    The vector\n",
        "  \n",
        "  Returns\n",
        "  -------\n",
        "  float\n",
        "    The squared norm of the vector\n",
        "\n",
        "  Examples\n",
        "  --------\n",
        "  >>> squared_norm([1, 2])\n",
        "  5\n",
        "  >>> squared_norm([1, 3, 4])\n",
        "  26\n",
        "  \"\"\"\n",
        "\n",
        "  output = 0\n",
        "  ##### WRITE YOUR CODE HERE #####\n",
        "  output = sum([x**2 for x in vec])\n",
        "  #### END CODE ####\n",
        "\n",
        "  \n",
        "  return output;\n",
        "\n"
      ],
      "execution_count": null,
      "outputs": []
    },
    {
      "cell_type": "code",
      "metadata": {
        "colab": {
          "base_uri": "https://localhost:8080/"
        },
        "id": "kaNAatUTndmt",
        "outputId": "67f80b38-9582-4b9a-bd86-04501c96d881"
      },
      "source": [
        "squared_norm([1, 3, 4])"
      ],
      "execution_count": null,
      "outputs": [
        {
          "output_type": "execute_result",
          "data": {
            "text/plain": [
              "26"
            ]
          },
          "metadata": {
            "tags": []
          },
          "execution_count": 14
        }
      ]
    },
    {
      "cell_type": "markdown",
      "metadata": {
        "id": "oW3rEpVrYzR0"
      },
      "source": [
        "### Nested Lists\n",
        "Arrays in machine learning are often in high dimensional. E.g Matrix, RGB image, Video.\n",
        "\n",
        "Matrix can be represented list of rows and each row of the matrix is also another list. This is an example of nested list. \n",
        "```python\n",
        "matrix = [\n",
        "          [1, 2],\n",
        "          [3, 4]\n",
        "        ]\n",
        "```\n",
        "With nested list we can use multiple level of indexing. For example to access 3 in the above matrix we can use the following the following snipt of code.\n",
        "\n",
        "```python\n",
        "matrix[1][0]\n",
        "```\n",
        "\n",
        "Nested for loop can be used to iterate over rows and columns of each rows.\n",
        "\n",
        "```python\n",
        "for i in range(len(matrix)):\n",
        "  for j in range(len(matirx[i])):\n",
        "    print(matrix[i][j])\n",
        "```"
      ]
    },
    {
      "cell_type": "markdown",
      "metadata": {
        "id": "eT2tVNaSdWjo"
      },
      "source": [
        "<font  color=\"olive\"> <b> Question 3</b><br/>\n",
        "Create a function to add two matrix defined by nested list. Assume both matrices have the same number of rows and columns.\n",
        "</font>"
      ]
    },
    {
      "cell_type": "code",
      "metadata": {
        "id": "Fhclzl4PdU7c"
      },
      "source": [
        "\n",
        "def add_matrix(matrix_1, matrix_2):\n",
        "  \"\"\"\n",
        "  Adds two matrix\n",
        "  Parameters\n",
        "  ----------\n",
        "  matrix_1 : list\n",
        "    A matrix defined by nested list \n",
        "  matrix_2 : list\n",
        "    A matrix defined by nested list \n",
        "  Returns\n",
        "  -------\n",
        "  list\n",
        "    A matrix, sum of the two matrices.\n",
        "\n",
        "  Examples\n",
        "  --------\n",
        "  >>> add_matrix([[1, 2], [2, 3]], [[4, 1], [5, 0]])\n",
        "  [[5, 3], [7, 3]]\n",
        "\n",
        "  \"\"\"\n",
        "  rows = len(matrix_1)\n",
        "  columns = len(matrix_1[0])\n",
        "  # print(rows, columns)\n",
        "  matrix_sum = [[0]*columns for _ in range(rows)]\n",
        "  # matrix_sum[0][0] = 34\n",
        "  # print(matrix_sum)\n",
        "  # output = \n",
        "  ##### WRITE YOUR CODE HERE #####\n",
        "  for i in range(rows):\n",
        "    for j in range(columns):\n",
        "      matrix_sum[i][j] = matrix_1[i][j] + matrix_2[i][j]\n",
        "  #### END CODE ####\n",
        "  return matrix_sum\n"
      ],
      "execution_count": null,
      "outputs": []
    },
    {
      "cell_type": "code",
      "metadata": {
        "colab": {
          "base_uri": "https://localhost:8080/"
        },
        "id": "WYZ7SJlTYJSl",
        "outputId": "fe9d4180-288a-490a-bbe3-72488a338683"
      },
      "source": [
        "add_matrix([[1, 2], [2, 3]], [[4, 1], [5, 0]])"
      ],
      "execution_count": null,
      "outputs": [
        {
          "output_type": "execute_result",
          "data": {
            "text/plain": [
              "[[5, 3], [7, 3]]"
            ]
          },
          "metadata": {
            "tags": []
          },
          "execution_count": 60
        }
      ]
    },
    {
      "cell_type": "markdown",
      "metadata": {
        "id": "mew2LY7gid3L"
      },
      "source": [
        "\n",
        "### tuples\n",
        "* Similar to lists but with some difference\n",
        "* Are ordered collection of items\n",
        "* fixed size\n",
        "* Immutable\n",
        "* More materials on tuples\n",
        "  * [Lists and Tuples in Python](https://realpython.com/python-lists-tuples/)\n",
        "\n",
        "\n"
      ]
    },
    {
      "cell_type": "code",
      "metadata": {
        "colab": {
          "base_uri": "https://localhost:8080/"
        },
        "id": "GFfVoqqaRNK2",
        "outputId": "37a2fc48-9d7a-42b7-e5da-1a66f0ccc6ad"
      },
      "source": [
        "\n",
        "t1 = (10, 20, 30, 40) # Creating tuple\n",
        "print(\"The first element of t1 is\", t1[0]) # accessing the first element of the tuple\n",
        "\n",
        "\n",
        "t2 = (\"cat\", \"dog\")\n",
        "t3 = t1 + t2 # tuple concatenation\n",
        "print(\"t3\", t3)"
      ],
      "execution_count": null,
      "outputs": [
        {
          "output_type": "stream",
          "text": [
            "The first element of t1 is 10\n",
            "t3 (10, 20, 30, 40, 'cat', 'dog')\n"
          ],
          "name": "stdout"
        }
      ]
    },
    {
      "cell_type": "markdown",
      "metadata": {
        "id": "HrKgmZi2rsCY"
      },
      "source": [
        "#### Type conversion\n",
        "Lists and tuples are ordered items. Conversion from one to another is possible.\n",
        "\n",
        "```python\n",
        "l1 = [1, 2, 3]\n",
        "t1 = tuple(l1) # Convert list to tuple\n",
        "t2 = [2, 4, 1]\n",
        "l2 = list(t2) # Conver to tuple\n",
        "\n",
        "```"
      ]
    },
    {
      "cell_type": "markdown",
      "metadata": {
        "id": "GzsVFFuYKi5i"
      },
      "source": [
        "### Time complexity\n",
        "  * Accessing item by indexing\n",
        "  * Checking existance of item "
      ]
    },
    {
      "cell_type": "code",
      "metadata": {
        "id": "TrsE15Lsrp-n"
      },
      "source": [
        ""
      ],
      "execution_count": null,
      "outputs": []
    },
    {
      "cell_type": "markdown",
      "metadata": {
        "id": "vUjCqVKErRYM"
      },
      "source": [
        "<font  color=\"olive\"> <b> Question 4</b><br/>\n",
        "Let's now use tuples to represent vectors. It would be even very convenient to use tuples than list to create vectors becuase basically vectors are fixed length. \n",
        "\n",
        "\n",
        "Create function to add to vectors. The addition of two vectors is given by the following equation.\n",
        "</font>\n",
        "\n",
        "$$\n",
        "  z_i = (\\mathbf{x} + \\mathbf{y})_i = x_i + y_i \n",
        "$$"
      ]
    },
    {
      "cell_type": "code",
      "metadata": {
        "id": "jwnOu24crPh4"
      },
      "source": [
        "def add_vectors(vec_1, vec_2):\n",
        "  \"\"\"\n",
        "  Computer addition of two vectors. The vectors are tuples of numbers\n",
        "  and have same length, i.e len(vec_1) == len(vec_2). \n",
        "  Parameters\n",
        "  ----------\n",
        "  vec_1 : tuple\n",
        "    The first vector\n",
        "  vec_2: tuple\n",
        "    The second vector\n",
        "  Returns\n",
        "  -------\n",
        "  tuple\n",
        "    The summition of the vec_1 and vec_2\n",
        "\n",
        "  Examples\n",
        "  --------\n",
        "  >>> add_vectors([1, 2], [3, 4])\n",
        "  [4, 6]\n",
        "  >>> add_vectors([1, 3, 4], [0, 1, 0])\n",
        "  [1, 4, 4]\n",
        "  \"\"\"\n",
        "\n",
        "  output = [0]*len(vec_1)\n",
        "  ##### WRITE YOUR CODE HERE #####\n",
        "  for i in range(len(vec_1)):\n",
        "    output[i] = vec_1[i] + vec_2[i]\n",
        "  #### END CODE ####\n",
        "  return output;\n",
        "\n",
        "\n",
        "\n"
      ],
      "execution_count": null,
      "outputs": []
    },
    {
      "cell_type": "code",
      "metadata": {
        "colab": {
          "base_uri": "https://localhost:8080/"
        },
        "id": "-XSJa7Blt6lL",
        "outputId": "f238709a-b37c-4e54-c6e7-db52b819902e"
      },
      "source": [
        "add_vectors([1, 2], [3, 4])"
      ],
      "execution_count": null,
      "outputs": [
        {
          "output_type": "execute_result",
          "data": {
            "text/plain": [
              "[4, 6]"
            ]
          },
          "metadata": {
            "tags": []
          },
          "execution_count": 143
        }
      ]
    },
    {
      "cell_type": "code",
      "metadata": {
        "colab": {
          "base_uri": "https://localhost:8080/"
        },
        "id": "hsDK5IQ4uE19",
        "outputId": "c1c40e9b-9e25-4da3-e954-e627a1316640"
      },
      "source": [
        "add_vectors([1, 3, 4], [0, 1, 0])"
      ],
      "execution_count": null,
      "outputs": [
        {
          "output_type": "execute_result",
          "data": {
            "text/plain": [
              "[1, 4, 4]"
            ]
          },
          "metadata": {
            "tags": []
          },
          "execution_count": 65
        }
      ]
    },
    {
      "cell_type": "markdown",
      "metadata": {
        "id": "ntrv6TG_kK43"
      },
      "source": [
        "## Sets\n",
        "* Are Unordered collection of items\n",
        "* They are mutable\n",
        "* The elements of set are unique(No duplication)\n",
        "* More on Sets [here](https://realpython.com/python-sets/)"
      ]
    },
    {
      "cell_type": "code",
      "metadata": {
        "colab": {
          "base_uri": "https://localhost:8080/"
        },
        "id": "zP9ixEiFqlm6",
        "outputId": "4c98eb45-671a-49fd-9639-704bf5d623fd"
      },
      "source": [
        "A = set([3, 3, 2, 4])\n",
        "print(A)\n",
        "B = set([2, 5, 8])\n",
        "print(B)"
      ],
      "execution_count": null,
      "outputs": [
        {
          "output_type": "stream",
          "text": [
            "{2, 3, 4}\n",
            "{8, 2, 5}\n"
          ],
          "name": "stdout"
        }
      ]
    },
    {
      "cell_type": "code",
      "metadata": {
        "colab": {
          "base_uri": "https://localhost:8080/"
        },
        "id": "5fNgrpzvsGJw",
        "outputId": "72b0a06b-e852-4822-a8f1-fb5095a07e6a"
      },
      "source": [
        "print(A.union(B))\n",
        "print(A.intersection(B))\n",
        "print(A - B) # A complement B\n",
        "print(B - A) # B complement A"
      ],
      "execution_count": null,
      "outputs": [
        {
          "output_type": "stream",
          "text": [
            "{2, 3, 4, 5, 8}\n",
            "{2}\n",
            "{3, 4}\n",
            "{8, 5}\n"
          ],
          "name": "stdout"
        }
      ]
    },
    {
      "cell_type": "code",
      "metadata": {
        "colab": {
          "base_uri": "https://localhost:8080/"
        },
        "id": "P1LDCdw9K3Oi",
        "outputId": "a02e1f63-2072-431a-82d4-c84929c775a1"
      },
      "source": [
        "s1 = set() # Creating empty sets\n",
        "print(\"s1\", s1)\n",
        "s2 = set([1, 3, 4])\n",
        "print(\"s2\", s2)\n",
        "s3 = {1, 3, 4} \n",
        "print(\"s3\",s3)\n",
        "s4 = set((1, 3, 4))\n",
        "print(\"s4\", s4)"
      ],
      "execution_count": null,
      "outputs": [
        {
          "output_type": "stream",
          "text": [
            "s1 set()\n",
            "s2 {1, 3, 4}\n",
            "s3 {1, 3, 4}\n",
            "s4 {1, 3, 4}\n"
          ],
          "name": "stdout"
        }
      ]
    },
    {
      "cell_type": "markdown",
      "metadata": {
        "id": "xiSiQhwWv7Ny"
      },
      "source": [
        "## Set operations"
      ]
    },
    {
      "cell_type": "code",
      "metadata": {
        "id": "SyHmhmX3K7Hb"
      },
      "source": [
        "s3.add(5)\n",
        "s4.add(6)\n",
        "s4.add('6')"
      ],
      "execution_count": null,
      "outputs": []
    },
    {
      "cell_type": "code",
      "metadata": {
        "colab": {
          "base_uri": "https://localhost:8080/"
        },
        "id": "xjt9_0BuxYkV",
        "outputId": "4ed34460-a67c-46f1-8bd1-760a4c241e65"
      },
      "source": [
        "dir(s3)"
      ],
      "execution_count": null,
      "outputs": [
        {
          "output_type": "execute_result",
          "data": {
            "text/plain": [
              "['__and__',\n",
              " '__class__',\n",
              " '__contains__',\n",
              " '__delattr__',\n",
              " '__dir__',\n",
              " '__doc__',\n",
              " '__eq__',\n",
              " '__format__',\n",
              " '__ge__',\n",
              " '__getattribute__',\n",
              " '__gt__',\n",
              " '__hash__',\n",
              " '__iand__',\n",
              " '__init__',\n",
              " '__init_subclass__',\n",
              " '__ior__',\n",
              " '__isub__',\n",
              " '__iter__',\n",
              " '__ixor__',\n",
              " '__le__',\n",
              " '__len__',\n",
              " '__lt__',\n",
              " '__ne__',\n",
              " '__new__',\n",
              " '__or__',\n",
              " '__rand__',\n",
              " '__reduce__',\n",
              " '__reduce_ex__',\n",
              " '__repr__',\n",
              " '__ror__',\n",
              " '__rsub__',\n",
              " '__rxor__',\n",
              " '__setattr__',\n",
              " '__sizeof__',\n",
              " '__str__',\n",
              " '__sub__',\n",
              " '__subclasshook__',\n",
              " '__xor__',\n",
              " 'add',\n",
              " 'clear',\n",
              " 'copy',\n",
              " 'difference',\n",
              " 'difference_update',\n",
              " 'discard',\n",
              " 'intersection',\n",
              " 'intersection_update',\n",
              " 'isdisjoint',\n",
              " 'issubset',\n",
              " 'issuperset',\n",
              " 'pop',\n",
              " 'remove',\n",
              " 'symmetric_difference',\n",
              " 'symmetric_difference_update',\n",
              " 'union',\n",
              " 'update']"
            ]
          },
          "metadata": {
            "tags": []
          },
          "execution_count": 64
        }
      ]
    },
    {
      "cell_type": "code",
      "metadata": {
        "id": "L0q4e88owpdG"
      },
      "source": [
        "A = set([1, 2, 3, 5])\n",
        "B = set([2, 3, 6, 4, 8])"
      ],
      "execution_count": null,
      "outputs": []
    },
    {
      "cell_type": "code",
      "metadata": {
        "colab": {
          "base_uri": "https://localhost:8080/"
        },
        "id": "OTnSz1CKvCrl",
        "outputId": "2f917b89-552c-41a0-8a36-122b5cc67d7e"
      },
      "source": [
        "print(\"A v B = {}\".format(A | B)) # Union\n",
        "print(\"A n B = {}\".format(A & B)) # Intersection\n",
        "print(\"A / B = {}\".format(A - B)) # relative complement\n",
        "print(\"B / A = {}\".format(B - A)) # relative complement\n"
      ],
      "execution_count": null,
      "outputs": [
        {
          "output_type": "stream",
          "text": [
            "A v B = {1, 2, 3, 4, 5, 6, 8}\n",
            "A n B = {2, 3}\n",
            "A / B = {1, 5}\n",
            "B / A = {8, 4, 6}\n"
          ],
          "name": "stdout"
        }
      ]
    },
    {
      "cell_type": "code",
      "metadata": {
        "colab": {
          "base_uri": "https://localhost:8080/"
        },
        "id": "U6f-wTyNzwj3",
        "outputId": "2d0ee0c3-7038-479b-b0ea-67ed75641ff8"
      },
      "source": [
        "s3.difference(s4)"
      ],
      "execution_count": null,
      "outputs": [
        {
          "output_type": "execute_result",
          "data": {
            "text/plain": [
              "{5}"
            ]
          },
          "metadata": {
            "tags": []
          },
          "execution_count": 69
        }
      ]
    },
    {
      "cell_type": "markdown",
      "metadata": {
        "id": "RdbcbWPtKsh_"
      },
      "source": [
        "### Time complexity of set operations\n",
        "  * Accessing item by indexing\n",
        "  * Checking existance of item \n",
        "  * Adding item"
      ]
    },
    {
      "cell_type": "markdown",
      "metadata": {
        "id": "LM1D5WBOxrMU"
      },
      "source": [
        "<font  color=\"olive\"> <b> Question 5</b><br/>\n",
        "Write a function to find the elements of two sets that are in only in one of the sets. Using loop is not allowed. Use only operation on set. \n",
        "</font>"
      ]
    },
    {
      "cell_type": "code",
      "metadata": {
        "id": "rmuJFexIwHzr"
      },
      "source": [
        "def intersection_complement(set_a, set_b):\n",
        "  \"\"\"\n",
        "  Find set of items that are only in one of the sets.\n",
        "  Parameters\n",
        "  ----------\n",
        "  set_a : set\n",
        "    A set with elements zero ore more\n",
        "  set_b : set\n",
        "    A set with elements zero ore more\n",
        "  \n",
        "  \n",
        "  Returns\n",
        "  -------\n",
        "  set\n",
        "    Set containing elements which are in only one of the sets\n",
        "\n",
        "  Examples\n",
        "  --------\n",
        "  >>> intersection_complement({1, 2, 3}, {3, 4, 6})\n",
        "  {1, 2, 4, 6}\n",
        "  >>> intersection_complement(set(), {3, 4, 6})\n",
        "  {3, 4, 6}\n",
        "  \"\"\"\n",
        "\n",
        "  output = None\n",
        "  ##### WRITE YOUR CODE HERE #####\n",
        "  a_complement = set_a - set_b\n",
        "  b_complement = set_b - set_a\n",
        "  output = a_complement.union(b_complement)\n",
        "  #### END CODE ####\n",
        "  return output;\n",
        "\n",
        " \n",
        "\n"
      ],
      "execution_count": null,
      "outputs": []
    },
    {
      "cell_type": "code",
      "metadata": {
        "colab": {
          "base_uri": "https://localhost:8080/"
        },
        "id": "Q1VPz6h9ytJ5",
        "outputId": "2412d72c-9dae-4bf5-8877-9ba007277867"
      },
      "source": [
        "intersection_complement({1, 2, 3}, {3, 4, 6})"
      ],
      "execution_count": null,
      "outputs": [
        {
          "output_type": "execute_result",
          "data": {
            "text/plain": [
              "{1, 2, 4, 6}"
            ]
          },
          "metadata": {
            "tags": []
          },
          "execution_count": 67
        }
      ]
    },
    {
      "cell_type": "code",
      "metadata": {
        "colab": {
          "base_uri": "https://localhost:8080/"
        },
        "id": "fFP9h7KSzs5T",
        "outputId": "dbf7d20d-5386-48c3-ab8f-a2463a445439"
      },
      "source": [
        "intersection_complement(set(), {3, 4, 6})"
      ],
      "execution_count": null,
      "outputs": [
        {
          "output_type": "execute_result",
          "data": {
            "text/plain": [
              "{3, 4, 6}"
            ]
          },
          "metadata": {
            "tags": []
          },
          "execution_count": 68
        }
      ]
    },
    {
      "cell_type": "code",
      "metadata": {
        "id": "jhCA7Zxb4nhK"
      },
      "source": [
        "st = {1,2,3}"
      ],
      "execution_count": null,
      "outputs": []
    },
    {
      "cell_type": "markdown",
      "metadata": {
        "id": "PI9EPVahMH8K"
      },
      "source": [
        "## Dictionaries\n",
        "\n",
        "* Collection of key, value pairs\n",
        "* A key is unique, but value could be diplicate.\n",
        "* Keys should be hashable.\n",
        "* More on Dictionaries [here](https://realpython.com/python-dicts/)"
      ]
    },
    {
      "cell_type": "code",
      "metadata": {
        "colab": {
          "base_uri": "https://localhost:8080/"
        },
        "id": "5EhoDjC3ZNYJ",
        "outputId": "4f69f78a-8e29-46d1-de85-37b6c148058a"
      },
      "source": [
        "d1 = {} # Creating empyt dictionary\n",
        "print(\"d1\", d1)\n",
        "d2 = dict() # Another way to create empty dictionary\n",
        "print(\"d2\", d2)\n",
        "d3 = {\"one\":1, \"two\":2, \"three\":3} # Creating dictionary with elements\n",
        "print(\"d3\", d3)\n",
        "d4 = dict(one=1, two=2, three=3) # The same as d3 but different intialization\n",
        "print(\"d4\", d4)\n",
        "d5 = dict([(\"one\", 1), (\"two\", 2), (\"three\", 3)]) # The same as d3 but different intialization\n",
        "print(\"d5\", d5)"
      ],
      "execution_count": null,
      "outputs": [
        {
          "output_type": "stream",
          "text": [
            "d1 {}\n",
            "d2 {}\n",
            "d3 {'one': 1, 'two': 2, 'three': 3}\n",
            "d4 {'one': 1, 'two': 2, 'three': 3}\n",
            "d5 {'one': 1, 'two': 2, 'three': 3}\n"
          ],
          "name": "stdout"
        }
      ]
    },
    {
      "cell_type": "markdown",
      "metadata": {
        "id": "WFl5LhC5KyaR"
      },
      "source": [
        "### Time complexity dictionaries\n",
        "  * Accessing item by indexing\n",
        "  * Checking existance of item \n",
        "    * Keys\n",
        "    * Values\n",
        "  * Adding item \n",
        "  "
      ]
    },
    {
      "cell_type": "markdown",
      "metadata": {
        "id": "Uw_eIJ3NvSht"
      },
      "source": [
        "<font  color=\"olive\"> <b>Quick exercise on set builder</b><br/>\n",
        "</font>"
      ]
    },
    {
      "cell_type": "code",
      "metadata": {
        "id": "BaFB7QYnvSAH",
        "colab": {
          "base_uri": "https://localhost:8080/"
        },
        "outputId": "ece7757a-89e9-4c73-aa76-ddeed259a296"
      },
      "source": [
        "a = [3, 5, 2, 9]\n",
        "d = {}\n",
        "for n in a:\n",
        "  d[n] = n + 2\n",
        "d"
      ],
      "execution_count": null,
      "outputs": [
        {
          "output_type": "execute_result",
          "data": {
            "text/plain": [
              "{2: 4, 3: 5, 5: 7, 9: 11}"
            ]
          },
          "metadata": {
            "tags": []
          },
          "execution_count": 40
        }
      ]
    },
    {
      "cell_type": "code",
      "metadata": {
        "colab": {
          "base_uri": "https://localhost:8080/"
        },
        "id": "OBfSehX67nnN",
        "outputId": "a16e2183-fbcd-45e5-d58b-c34fdab69f5f"
      },
      "source": [
        "# Dictionary comprehension !\n",
        "{k:k+2 for k in a}"
      ],
      "execution_count": null,
      "outputs": [
        {
          "output_type": "execute_result",
          "data": {
            "text/plain": [
              "{2: 4, 3: 5, 5: 7, 9: 11}"
            ]
          },
          "metadata": {
            "tags": []
          },
          "execution_count": 41
        }
      ]
    },
    {
      "cell_type": "code",
      "metadata": {
        "colab": {
          "base_uri": "https://localhost:8080/"
        },
        "id": "eafidcUs8I7c",
        "outputId": "8bd59077-8882-43a3-ec1b-ba5ed558636c"
      },
      "source": [
        "# Set comprehension !\n",
        "type({k for k in a})"
      ],
      "execution_count": null,
      "outputs": [
        {
          "output_type": "execute_result",
          "data": {
            "text/plain": [
              "set"
            ]
          },
          "metadata": {
            "tags": []
          },
          "execution_count": 42
        }
      ]
    },
    {
      "cell_type": "markdown",
      "metadata": {
        "id": "aTWzm8YqOq_G"
      },
      "source": [
        "## Stacks\n",
        "\n",
        "* Stacks are abstract datatypes. \n",
        "* Python doesn't provide stack builtin implementations\n",
        "* Last In First Out ADT\n",
        "* Have the following operations\n",
        "  * Push: adds an element on top of the stack\n",
        "  * Pop: removes an element from the top of the stack<br/>\n",
        "  * empty: Checks if the stack is empty\n",
        "  <b>Optionally</b>\n",
        "  * Peek: To see the top elements\n",
        "  * Size: Retrieves the number of elements of the stack\n",
        "\n",
        "\n",
        "\n",
        "\n",
        "### Implementing stacks with list\n",
        "* `append()` method of list for push operation\n",
        "* `pop()` method of list for pop operation\n",
        "* indexing with last index for peek operation\n",
        "* list.__len__() == 0 for empty operation \n",
        "* list.__len__() for size operation\n"
      ]
    },
    {
      "cell_type": "code",
      "metadata": {
        "id": "yTk7z3X8g1Xi"
      },
      "source": [
        "stack = list()\n",
        "stack.append(\"one\") # Push operation\n",
        "element = stack.pop() # Pop operation\n",
        "print(\"element\", element)\n",
        "print(\"Is empty: \", len(stack)==0) # Empty operation\n",
        "print(\"Size\", len(stack))"
      ],
      "execution_count": null,
      "outputs": []
    },
    {
      "cell_type": "markdown",
      "metadata": {
        "id": "BgUjD36BM4Ct"
      },
      "source": [
        "Here we will create a class to represent stack. Don't worry if you don't know what class is and how to use it. All the following code will be clear, once you learn classes and object tomorrow. For know focus on the functions of the class."
      ]
    },
    {
      "cell_type": "code",
      "metadata": {
        "id": "nd_ltyduNJmw"
      },
      "source": [
        "class Stack(object):\n",
        "  def __init__(self):\n",
        "    self.__stack = list()\n",
        "  def push(self, element):\n",
        "    self.__stack.append(element)\n",
        "  def pop(self):\n",
        "    if self.empty():\n",
        "      raise StopIteration(\"Pop from empty stack!!!\")\n",
        "    return self.__stack.pop()\n",
        "  def empty(self):\n",
        "    return len(self.__stack) == 0\n",
        "  def size(self):\n",
        "    return len(self.__stack)"
      ],
      "execution_count": null,
      "outputs": []
    },
    {
      "cell_type": "code",
      "metadata": {
        "id": "al4NWXo7Pw_k"
      },
      "source": [
        "stack = Stack()"
      ],
      "execution_count": null,
      "outputs": []
    },
    {
      "cell_type": "code",
      "metadata": {
        "colab": {
          "background_save": true
        },
        "id": "I_SHhpk5TJEa"
      },
      "source": [
        "dir(stack)"
      ],
      "execution_count": null,
      "outputs": []
    },
    {
      "cell_type": "code",
      "metadata": {
        "id": "0gPPulnpP7mN"
      },
      "source": [
        "stack.push(1)\n",
        "stack.push(2)\n",
        "stack.push(3)\n",
        "print(stack.pop())\n",
        "stack.push(4)\n",
        "stack.push(5)\n",
        "print(stack.pop())\n"
      ],
      "execution_count": null,
      "outputs": []
    },
    {
      "cell_type": "code",
      "metadata": {
        "id": "5DY7O3RlP7sR"
      },
      "source": [
        "stack.pop()"
      ],
      "execution_count": null,
      "outputs": []
    },
    {
      "cell_type": "code",
      "metadata": {
        "id": "zvuZc6zXP7vH"
      },
      "source": [
        "stack.pop()"
      ],
      "execution_count": null,
      "outputs": []
    },
    {
      "cell_type": "code",
      "metadata": {
        "id": "VJUDUlx1R2TU"
      },
      "source": [
        "stack.pop()"
      ],
      "execution_count": null,
      "outputs": []
    },
    {
      "cell_type": "markdown",
      "metadata": {
        "id": "I_M8SXShauRQ"
      },
      "source": [
        "## Queues\n",
        "* Similar to stack\n",
        "* First In First Out(FIFO) ADT\n",
        "* Python provides [deque objects](https://docs.python.org/3/library/collections.html#collections.defaultdict), to implement queue\n",
        "\n"
      ]
    },
    {
      "cell_type": "markdown",
      "metadata": {
        "id": "Mze-jctfo4en"
      },
      "source": [
        "## Linked Lists\n",
        "\n",
        "* Another implementation of List ADT\n",
        "* Each element has reference to next element(which could be for tail)\n",
        "* Have two properties, head node and tail node\n",
        "\n",
        "\n",
        "<img src=\"https://upload.wikimedia.org/wikipedia/commons/b/bf/Linked_list_data_format.jpg\"/><br/>\n",
        "<b>fig src:[https://upload.wikimedia.org/wikipedia/commons/b/bf/Linked_list_data_format.jpg](https://upload.wikimedia.org/wikipedia/commons/b/bf/Linked_list_data_format.jpg)</b>"
      ]
    },
    {
      "cell_type": "markdown",
      "metadata": {
        "id": "A5mwpmlGSC-f"
      },
      "source": [
        "We will implement Queue the same way as we implemented Stack. But here we will use deque to instead of list. Deque are more effient[O(1)] to add item to the start index compared with list which requires  O(n) time complexity to add item to the start index."
      ]
    },
    {
      "cell_type": "markdown",
      "metadata": {
        "id": "CrLB0QwGqOyY"
      },
      "source": [
        "### Linked List - Node\n",
        "* Each element in linked list\n",
        "* Has two properties\n",
        "  * Value\n",
        "  * Next \n",
        "\n",
        "  \n",
        "### Implemeneting Linked List\n"
      ]
    },
    {
      "cell_type": "code",
      "metadata": {
        "id": "K8XfU2HzR_Hd"
      },
      "source": [
        "from collections import deque\n",
        "class Queue(object):\n",
        "  def __init__(self):\n",
        "    self.__q = deque()\n",
        "  def enque(self, item):\n",
        "    self.__q.append(item)\n",
        "  def deque(self):\n",
        "    try:\n",
        "      return self.__q.popleft()\n",
        "    except StopIteration as exp:\n",
        "      raise StopIteration(\"Poping from empty queue\")\n",
        "  "
      ],
      "execution_count": null,
      "outputs": []
    },
    {
      "cell_type": "markdown",
      "metadata": {
        "id": "VNR8OLXAl7e8"
      },
      "source": [
        "## Mutable vs Immutable \n",
        "### Mutable\n",
        "  * Are data structures that can be changed, after their creation\n",
        "  * Since their value can be changed they are not hashable"
      ]
    },
    {
      "cell_type": "code",
      "metadata": {
        "colab": {
          "base_uri": "https://localhost:8080/",
          "height": 212
        },
        "id": "5D7sOyBxl84d",
        "outputId": "8b8b49c5-511b-4ae6-dd78-a71e539c6f8c"
      },
      "source": [
        "s = set([\"One\", \"Two\"])\n",
        "s.add(\"Three\")\n",
        "print(\"s:\", s)\n",
        "another_set = set([1, s]) # This will not run because s is  immutable"
      ],
      "execution_count": null,
      "outputs": [
        {
          "output_type": "stream",
          "text": [
            "s: {'One', 'Three', 'Two'}\n"
          ],
          "name": "stdout"
        },
        {
          "output_type": "error",
          "ename": "TypeError",
          "evalue": "ignored",
          "traceback": [
            "\u001b[0;31m---------------------------------------------------------------------------\u001b[0m",
            "\u001b[0;31mTypeError\u001b[0m                                 Traceback (most recent call last)",
            "\u001b[0;32m<ipython-input-12-d9edf588dad8>\u001b[0m in \u001b[0;36m<module>\u001b[0;34m()\u001b[0m\n\u001b[1;32m      2\u001b[0m \u001b[0ms\u001b[0m\u001b[0;34m.\u001b[0m\u001b[0madd\u001b[0m\u001b[0;34m(\u001b[0m\u001b[0;34m\"Three\"\u001b[0m\u001b[0;34m)\u001b[0m\u001b[0;34m\u001b[0m\u001b[0;34m\u001b[0m\u001b[0m\n\u001b[1;32m      3\u001b[0m \u001b[0mprint\u001b[0m\u001b[0;34m(\u001b[0m\u001b[0;34m\"s:\"\u001b[0m\u001b[0;34m,\u001b[0m \u001b[0ms\u001b[0m\u001b[0;34m)\u001b[0m\u001b[0;34m\u001b[0m\u001b[0;34m\u001b[0m\u001b[0m\n\u001b[0;32m----> 4\u001b[0;31m \u001b[0manother_set\u001b[0m \u001b[0;34m=\u001b[0m \u001b[0mset\u001b[0m\u001b[0;34m(\u001b[0m\u001b[0;34m[\u001b[0m\u001b[0;36m1\u001b[0m\u001b[0;34m,\u001b[0m \u001b[0ms\u001b[0m\u001b[0;34m]\u001b[0m\u001b[0;34m)\u001b[0m \u001b[0;31m# This will not run because s is not mutable\u001b[0m\u001b[0;34m\u001b[0m\u001b[0;34m\u001b[0m\u001b[0m\n\u001b[0m",
            "\u001b[0;31mTypeError\u001b[0m: unhashable type: 'set'"
          ]
        }
      ]
    },
    {
      "cell_type": "markdown",
      "metadata": {
        "id": "R-NzeS1slPth"
      },
      "source": [
        "\n",
        "### Immutable \n",
        "\n",
        "  * The data structures that cannot be changed once they are created.\n",
        "  * They are hashable and can be used as elements of set and as keys of dictionaries\n",
        "  \n",
        " \n"
      ]
    },
    {
      "cell_type": "code",
      "metadata": {
        "id": "KoK7RuyGl6x1"
      },
      "source": [
        "t = tuple([\"One\", \"Two\"])\n",
        "\n",
        "s = set([1, t]) # This will run because t is  immutable"
      ],
      "execution_count": null,
      "outputs": []
    },
    {
      "cell_type": "code",
      "metadata": {
        "id": "9NpELs0xrXKv"
      },
      "source": [
        ""
      ],
      "execution_count": null,
      "outputs": []
    },
    {
      "cell_type": "markdown",
      "metadata": {
        "id": "8Mz68PBCrXnC"
      },
      "source": [
        "## Time and Space complexity analysis"
      ]
    },
    {
      "cell_type": "markdown",
      "metadata": {
        "id": "dTaPSJ6IKSam"
      },
      "source": [
        "<font color=\"olive\"> <b> Question 6</b><br/> Given an integer n write a function to retrieve the first n fibonacci sequence elements.</font>\n"
      ]
    },
    {
      "cell_type": "code",
      "metadata": {
        "id": "XvyBjRi6Kh9_"
      },
      "source": [
        "\n",
        "def fibonacci(n):\n",
        "  \"\"\"\n",
        "  The first n elements of fibonacci sequence.\n",
        "  Parameters\n",
        "  ----------\n",
        "  n : int\n",
        "    Number of fibonacci sequence elements to retrieve\n",
        "  Returns\n",
        "  -------\n",
        "  list\n",
        "    The first n fibonacci sequence elements\n",
        "  Examples\n",
        "  --------\n",
        "  >>> fibonacci(1)\n",
        "  [1]\n",
        "  >>> fibonacci(2)\n",
        "  [1, 1]\n",
        "  >>> fibonacci(6)\n",
        "  [1, 1, 2, 3, 5, 8]\n",
        "  \"\"\"\n",
        "  output = []\n",
        "  ##### WRITE YOUR CODE HERE #####\n",
        "  fib_n_min_2 = 1\n",
        "  fib_n_min_1 = 0\n",
        "  for i in range(n):\n",
        "    fib_i = fib_n_min_2 + fib_n_min_1\n",
        "    fib_n_min_2 = fib_n_min_1\n",
        "    fib_n_min_1 = fib_i\n",
        "    # print(fib_i)\n",
        "    output.append(fib_i)\n",
        "  #### END CODE ####\n",
        "\n",
        "  \n",
        "  return output;\n"
      ],
      "execution_count": null,
      "outputs": []
    },
    {
      "cell_type": "code",
      "metadata": {
        "id": "LdtJCnzJfJk9"
      },
      "source": [
        "def fibonacci_recursion(n, mem={}):\n",
        "  mem[0] = 0\n",
        "  mem[1] = 1\n",
        "  mem[2] = 1\n",
        "  # print(mem)\n",
        "  if n == 0 or n==1 or n==2:\n",
        "    return 1\n",
        "  elif n in mem.keys():\n",
        "    # print(\"This is already computed\")\n",
        "    return mem[n]\n",
        "  else:\n",
        "    mem[n] =  fib_rev(n-1, mem) + fib_rev(n-2, mem)\n",
        "    return mem[n]\n",
        "def print_fib(n):\n",
        "  fibs = []\n",
        "  for i in range(n):\n",
        "    fibs.append(fibonacci_recursion(i))\n",
        "  return fibs"
      ],
      "execution_count": null,
      "outputs": []
    },
    {
      "cell_type": "code",
      "metadata": {
        "colab": {
          "base_uri": "https://localhost:8080/"
        },
        "id": "pX4vvhQagE2d",
        "outputId": "743b2f79-d9ef-4934-adb0-cc7690f58595"
      },
      "source": [
        "print_fib(10)"
      ],
      "execution_count": null,
      "outputs": [
        {
          "output_type": "stream",
          "text": [
            "This is already computed\n",
            "This is already computed\n",
            "This is already computed\n",
            "This is already computed\n",
            "This is already computed\n",
            "This is already computed\n",
            "This is already computed\n",
            "This is already computed\n",
            "This is already computed\n",
            "This is already computed\n",
            "This is already computed\n"
          ],
          "name": "stdout"
        },
        {
          "output_type": "execute_result",
          "data": {
            "text/plain": [
              "[1, 1, 1, 2, 3, 5, 8, 13, 21, 34]"
            ]
          },
          "metadata": {
            "tags": []
          },
          "execution_count": 192
        }
      ]
    },
    {
      "cell_type": "code",
      "metadata": {
        "colab": {
          "base_uri": "https://localhost:8080/"
        },
        "id": "uL7bzXoMLiN5",
        "outputId": "168ef244-5935-422f-895a-6310be856b4d"
      },
      "source": [
        "fibonacci(10)"
      ],
      "execution_count": null,
      "outputs": [
        {
          "output_type": "execute_result",
          "data": {
            "text/plain": [
              "[1, 1, 2, 3, 5, 8, 13, 21, 34, 55]"
            ]
          },
          "metadata": {
            "tags": []
          },
          "execution_count": 190
        }
      ]
    },
    {
      "cell_type": "markdown",
      "metadata": {
        "id": "WoZ5EFwl9y4J"
      },
      "source": [
        "\n",
        "<font color=\"olive\"> <b> Question 7</b><br/>Write a function that accepts integer n as argument, it should return a dictionary with key of non-negative integers up to n and squares of the those integers as values. e.g for n == 3 the output should be {0:0, 1:1, 2:4, 3:9}</font>"
      ]
    },
    {
      "cell_type": "code",
      "metadata": {
        "id": "70piy99JlR7O"
      },
      "source": [
        "\n",
        "def squares(n):\n",
        "  \"\"\"\n",
        "  Squares of non negative integers numbers up to n\n",
        "  Parameters\n",
        "  ----------\n",
        "  n : int\n",
        "    The number which specifies the upper bound of the numbers to compute squares\n",
        "  Returns\n",
        "  -------\n",
        "  dict\n",
        "    Dictionary where the keys are numbers up to n and the values are the squares of those integers\n",
        "\n",
        "  Examples\n",
        "  --------\n",
        "  >>> squares(3)\n",
        "  {0:0, 1:1, 2:4, 3:9}\n",
        "  >>> squares(1)\n",
        "  {0:0, 1:1}\n",
        "  \"\"\"\n",
        "  output = None\n",
        "  ##### WRITE YOUR CODE HERE #####\n",
        "  output = {k: k**2 for k in range(n+1)}\n",
        "  #### END CODE ####\n",
        "\n",
        "  \n",
        "  return output;\n",
        "  "
      ],
      "execution_count": null,
      "outputs": []
    },
    {
      "cell_type": "code",
      "metadata": {
        "colab": {
          "base_uri": "https://localhost:8080/"
        },
        "id": "mkxzE0LfHIEz",
        "outputId": "596c72b3-7478-4436-a653-abc40b32d235"
      },
      "source": [
        "squares(3)"
      ],
      "execution_count": null,
      "outputs": [
        {
          "output_type": "execute_result",
          "data": {
            "text/plain": [
              "{0: 0, 1: 1, 2: 4, 3: 9}"
            ]
          },
          "metadata": {
            "tags": []
          },
          "execution_count": 83
        }
      ]
    },
    {
      "cell_type": "markdown",
      "metadata": {
        "id": "0hguzTi-EVNB"
      },
      "source": [
        "<font color=\"olive\"> <b> Question 8</b><br/>Implement factorial function using recursion. Optimize the implementation for space complexity.</font>"
      ]
    },
    {
      "cell_type": "code",
      "metadata": {
        "id": "xjvFnUywDZvO"
      },
      "source": [
        "\n",
        "def factorial(n, mem = {}):\n",
        "  \"\"\"\n",
        "  Factorial of n with recursion.\n",
        "  Parameters\n",
        "  ----------\n",
        "  n : int\n",
        "    The number to compute factorial\n",
        "  mem : dict\n",
        "    The memory used to store previously computed factorial values\n",
        "  Returns\n",
        "  -------\n",
        "  int\n",
        "    The factorial of the n\n",
        "\n",
        "  Examples\n",
        "  --------\n",
        "  >>> factorial(0)\n",
        "  1\n",
        "  >>> factorial(3)\n",
        "  6\n",
        "  \"\"\"\n",
        "  output = None\n",
        "  ##### WRITE YOUR CODE HERE #####\n",
        "  if n==0 or n==1:\n",
        "    output = 1\n",
        "    # mem[output] = output\n",
        "    return output\n",
        "  else:\n",
        "    output = n*factorial(n-1, mem)\n",
        "    # mem[output] = output\n",
        "    # print(len(mem))\n",
        "    return output\n",
        "  #### END CODE ####\n",
        "  # return output;\n",
        "  \n"
      ],
      "execution_count": null,
      "outputs": []
    },
    {
      "cell_type": "code",
      "metadata": {
        "colab": {
          "base_uri": "https://localhost:8080/"
        },
        "id": "Lp0DcUUsIFXa",
        "outputId": "0235497e-0d5a-4804-b6d9-d449846a7770"
      },
      "source": [
        "factorial(4)"
      ],
      "execution_count": null,
      "outputs": [
        {
          "output_type": "execute_result",
          "data": {
            "text/plain": [
              "24"
            ]
          },
          "metadata": {
            "tags": []
          },
          "execution_count": 101
        }
      ]
    },
    {
      "cell_type": "markdown",
      "metadata": {
        "id": "J3Z7ylCeTMq4"
      },
      "source": [
        "<font  color=\"olive\"> <b> Question 9</b><br/></font>\n",
        "\n",
        "\n",
        "Here you are going to change the way python converts dictonaries to strings. In python if we have dictionary `{'one': 1, 'two': 2}`, calling the str method will convert this dictionary to `\"{'one': 1, 'two': 2}\"`. But we want to change this behavior.\n",
        "So if have `{'one': 1, 'two': 2}` dictionary, the model should output `\"{\\n\\t'one' => 1,\\n\\t'two' => 2\\n}\"`, so that printing the output would look like\n",
        "\n",
        "```bash\n",
        "{\n",
        "\t'one' => 1,\n",
        "\t'two' => 2\n",
        "}\n",
        "\n",
        "\n",
        "```\n",
        "\n",
        "for dictionary `{1:('a', 'b'), 2:('c', 'd')}` the output should be `\"{\\n\\t1 => ('a', 'b'),\\n\\t2 => ('c', 'd')\\n}\"`, so the printing would produce:-\n",
        "\n",
        "```bash\n",
        "{\n",
        "\t1 => ('a', 'b'),\n",
        "\t2 => ('c', 'd')\n",
        "}\n",
        "\n",
        "```\n",
        "\n",
        "for dictionary `{1:'a', 2:'b'}` the output should be `{\\n\\t1 => 'a',\\n\\t2 => 'b'\\n}`, so the printing would produce:-\n",
        "\n",
        "```bash\n",
        "{\n",
        "\t1 => 'a',\n",
        "\t2 => 'b'\n",
        "}\n",
        "\n",
        "```\n",
        "\n",
        "\n",
        "<font color=\"olive\">\n",
        "Write a function called `dict_str` it should accept dictionary and should return string representation of the dictionary in the new format discussed here.\n",
        "</font>"
      ]
    },
    {
      "cell_type": "code",
      "metadata": {
        "id": "nHJL2ATgFvNl"
      },
      "source": [
        "\n",
        "def dict_str(d):\n",
        "  \"\"\"\n",
        "  New string representation for dictionaries\n",
        "  Parameters\n",
        "  ----------\n",
        "  d : dict\n",
        "    The dictionary to compute string representation\n",
        "  Returns\n",
        "  -------\n",
        "  str\n",
        "    New string reprsentation for the dictionary\n",
        "\n",
        "  Examples\n",
        "  --------\n",
        "  >>> dict_str({'one': 1, 'two': 2})\n",
        "  \"{\\n\\t'one' => 1,\\n\\t'two' => 2\\n}\"\n",
        "  >>> dict_str({1:('a', 'b'), 2:('c', 'd')})\n",
        "  \"{\\n\\t1 => ('a', 'b'),\\n\\t2 => ('c', 'd')\\n}\"\n",
        "\n",
        "  \"\"\"\n",
        "  output = None\n",
        "  ##### WRITE YOUR CODE HERE #####\n",
        "  new_rep = '{\\n\\t'\n",
        "  for i, item in enumerate( d.items()):\n",
        "    # print(i, k)\n",
        "    k, v = item\n",
        "    if i == len(d) - 1:\n",
        "      new_rep += f\"{k} => {v}\\n\"\n",
        "      new_rep += \"}\"\n",
        "      break\n",
        "    new_rep += f\"{k} => {v},\\n\\t\" \n",
        "  #### END CODE ####\n",
        "\n",
        "  output = new_rep\n",
        "  return output;"
      ],
      "execution_count": null,
      "outputs": []
    },
    {
      "cell_type": "code",
      "metadata": {
        "colab": {
          "base_uri": "https://localhost:8080/"
        },
        "id": "YqatTRoKUFt_",
        "outputId": "fa75a279-b57a-4003-ea07-734194a7e3d5"
      },
      "source": [
        "d = {'one': 1, 'two': 2}\n",
        "print(dict_str(d))\n",
        "d = {1:('a', 'b'), 2:('c', 'd'), 3:\"TRPO\"}\n",
        "print(dict_str(d))"
      ],
      "execution_count": null,
      "outputs": [
        {
          "output_type": "stream",
          "text": [
            "{\n",
            "\tone => 1,\n",
            "\ttwo => 2\n",
            "}\n",
            "{\n",
            "\t1 => ('a', 'b'),\n",
            "\t2 => ('c', 'd'),\n",
            "\t3 => TRPO\n",
            "}\n"
          ],
          "name": "stdout"
        }
      ]
    },
    {
      "cell_type": "markdown",
      "metadata": {
        "id": "_7WtFVIxIZSQ"
      },
      "source": [
        "<font  color=\"olive\"> <b> Question 10</b><br/>\n",
        "Create a function to reverse a list. The function should use O(1) memory regardless of the input list size. Using `reversed` function is not allowed.</font>"
      ]
    },
    {
      "cell_type": "code",
      "metadata": {
        "id": "VUlvSt06Ikyf"
      },
      "source": [
        "\n",
        "def reverse_list(l):\n",
        "  \"\"\"\n",
        "  Reverse a list \n",
        "  Parameters\n",
        "  ----------\n",
        "  l : list\n",
        "    A list to reverse the order\n",
        "  Returns\n",
        "  -------\n",
        "  list\n",
        "    New list with elements in reversed order\n",
        "\n",
        "  Examples\n",
        "  --------\n",
        "  >>> reverse_list([1])\n",
        "  [1]\n",
        "  >>> reverse_list([1, 2, 3, 4])\n",
        "  [4, 3, 2, 1]\n",
        "\n",
        "  \"\"\"\n",
        "  ##### WRITE YOUR CODE HERE #####\n",
        "  # for index in range(len(l)//2):\n",
        "  #   l[-(index+1)] = l[-(index+1)] + l[index]\n",
        "  #   l[index] = l[-(index+1)] - l[index]\n",
        "  #   l[-(index+1)] = l[-(index+1)] - l[index]\n",
        "  l = l[::-1]\n",
        "  #### END CODE ####\n",
        "  \n",
        "  return l"
      ],
      "execution_count": null,
      "outputs": []
    },
    {
      "cell_type": "code",
      "metadata": {
        "colab": {
          "base_uri": "https://localhost:8080/"
        },
        "id": "YYroq3c0Vxd6",
        "outputId": "d5c0ca0d-7486-45da-cbe4-bd1c62a7926a"
      },
      "source": [
        "reverse_list([1, 2, 3, 4])"
      ],
      "execution_count": null,
      "outputs": [
        {
          "output_type": "execute_result",
          "data": {
            "text/plain": [
              "[4, 3, 2, 1]"
            ]
          },
          "metadata": {
            "tags": []
          },
          "execution_count": 140
        }
      ]
    },
    {
      "cell_type": "markdown",
      "metadata": {
        "id": "5yUHZIEPgNMS"
      },
      "source": [
        "<font  color=\"olive\"> <b> Question 11</b><br/>\n",
        "Write a function to remove duplicate elements from a list. The order might be changed. Do this exercise without using loops.\n",
        "\n",
        "</font>"
      ]
    },
    {
      "cell_type": "code",
      "metadata": {
        "id": "wM3jhqbugMJA"
      },
      "source": [
        "def remove_duplicate(l):\n",
        "  \"\"\"\n",
        "  Remove duplicate \n",
        "  Parameters\n",
        "  ----------\n",
        "  l : list\n",
        "    A list possibly containing duplicate elements\n",
        "  Returns\n",
        "  -------\n",
        "  list\n",
        "    A list containing only unique elements\n",
        "\n",
        "  Examples\n",
        "  --------\n",
        "  >>> remove_duplicate([1, 2, 2, 3, 4, 1])\n",
        "  [1, 2, 3, 4]\n",
        "  >>> remove_duplicate([1, 2, 3, 4])\n",
        "  [1, 2, 3, 4]\n",
        "f\n",
        "  \"\"\"\n",
        "  output = None\n",
        "  ##### WRITE YOUR CODE HERE #####\n",
        "  output = set(l)fadd\n",
        "  #### END CODE ####\n",
        "  return output;\n"
      ],
      "execution_count": null,
      "outputs": []
    },
    {
      "cell_type": "code",
      "metadata": {
        "colab": {
          "base_uri": "https://localhost:8080/"
        },
        "id": "oxIM9rsyZKiR",
        "outputId": "0b9f9870-9966-4346-e1d4-ff4f0fd59ec6"
      },
      "source": [
        "remove_duplicate([1, 2, 2, 3, 4, 1])"
      ],
      "execution_count": null,
      "outputs": [
        {
          "output_type": "execute_result",
          "data": {
            "text/plain": [
              "{1, 2, 3, 4}"
            ]
          },
          "metadata": {
            "tags": []
          },
          "execution_count": 141
        }
      ]
    },
    {
      "cell_type": "markdown",
      "metadata": {
        "id": "je5RQmlFYJ3S"
      },
      "source": [
        "<font  color=\"olive\"> <b> Question 12</b><br/></font>\n",
        "Create a class to represent matrix with the following properties.\n",
        "\n",
        "* Initializer should accept three optional parameters\n",
        "    * rows => int: number of rows\n",
        "    * cols => int: number of columns of matrix\n",
        "    * matrix => list: nested list\n",
        "* If matrix parameter is None:\n",
        "   * The rows and cols should be given, if they are not given raise Exception.\n",
        "   * Create `__matrix` attribute of nested list with given number of rows and columns\n",
        "   \n",
        "   * All elements of the `__matrix` should be zero\n",
        "* If matrix paramter is not None\n",
        "  * Check if it is nested list, otherwise raise exception.\n",
        "  * You should check if the all inner lists have the same size and  numeric datatype\n",
        "  * Ignore the rows and cols parameters\n",
        "* Create `__rows` attribute to be the number of rows of `__matrix`\n",
        "* Create `__cols` attribute to be the number of columns of `__matrix`"
      ]
    },
    {
      "cell_type": "code",
      "metadata": {
        "id": "trQlA4jwIBiy"
      },
      "source": [
        ""
      ],
      "execution_count": null,
      "outputs": []
    },
    {
      "cell_type": "code",
      "metadata": {
        "id": "Ys239zAoof7c"
      },
      "source": [
        ""
      ],
      "execution_count": null,
      "outputs": []
    }
  ]
}